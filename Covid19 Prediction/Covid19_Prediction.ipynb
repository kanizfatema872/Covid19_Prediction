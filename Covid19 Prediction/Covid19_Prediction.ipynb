{
  "nbformat": 4,
  "nbformat_minor": 0,
  "metadata": {
    "colab": {
      "name": "Covid19_Prediction.ipynb",
      "provenance": [],
      "collapsed_sections": []
    },
    "kernelspec": {
      "name": "python3",
      "display_name": "Python 3"
    },
    "language_info": {
      "name": "python"
    }
  },
  "cells": [
    {
      "cell_type": "code",
      "metadata": {
        "id": "eT57LKYxqUSq"
      },
      "source": [
        "import numpy as np\n",
        "import pandas as pd\n",
        "import matplotlib.pyplot as plt\n",
        "import sklearn\n",
        "import tensorflow as tf\n",
        "import keras\n",
        "import seaborn as sns"
      ],
      "execution_count": null,
      "outputs": []
    },
    {
      "cell_type": "code",
      "metadata": {
        "id": "rpMRvdqXqdWQ"
      },
      "source": [
        "dataset = pd.read_csv('/content/drive/MyDrive/Machine Learning A-Z/covid_19_data.csv')"
      ],
      "execution_count": null,
      "outputs": []
    },
    {
      "cell_type": "code",
      "metadata": {
        "colab": {
          "base_uri": "https://localhost:8080/",
          "height": 422
        },
        "id": "mgpg674yqdao",
        "outputId": "fe25e989-e892-4166-a2c2-f12833a66756"
      },
      "source": [
        "dataset"
      ],
      "execution_count": null,
      "outputs": [
        {
          "output_type": "execute_result",
          "data": {
            "text/html": [
              "<div>\n",
              "<style scoped>\n",
              "    .dataframe tbody tr th:only-of-type {\n",
              "        vertical-align: middle;\n",
              "    }\n",
              "\n",
              "    .dataframe tbody tr th {\n",
              "        vertical-align: top;\n",
              "    }\n",
              "\n",
              "    .dataframe thead th {\n",
              "        text-align: right;\n",
              "    }\n",
              "</style>\n",
              "<table border=\"1\" class=\"dataframe\">\n",
              "  <thead>\n",
              "    <tr style=\"text-align: right;\">\n",
              "      <th></th>\n",
              "      <th>SNo</th>\n",
              "      <th>ObservationDate</th>\n",
              "      <th>Country</th>\n",
              "      <th>Last Update</th>\n",
              "      <th>Confirmed</th>\n",
              "      <th>Deaths</th>\n",
              "      <th>Recovered</th>\n",
              "    </tr>\n",
              "  </thead>\n",
              "  <tbody>\n",
              "    <tr>\n",
              "      <th>0</th>\n",
              "      <td>1</td>\n",
              "      <td>1/4/1900</td>\n",
              "      <td>Mainland China</td>\n",
              "      <td>1/22/2020</td>\n",
              "      <td>1</td>\n",
              "      <td>0</td>\n",
              "      <td>0</td>\n",
              "    </tr>\n",
              "    <tr>\n",
              "      <th>1</th>\n",
              "      <td>2</td>\n",
              "      <td>1/22/2020</td>\n",
              "      <td>Mainland China</td>\n",
              "      <td>1/22/2020</td>\n",
              "      <td>14</td>\n",
              "      <td>0</td>\n",
              "      <td>0</td>\n",
              "    </tr>\n",
              "    <tr>\n",
              "      <th>2</th>\n",
              "      <td>3</td>\n",
              "      <td>1/22/2020</td>\n",
              "      <td>Mainland China</td>\n",
              "      <td>1/22/2020</td>\n",
              "      <td>6</td>\n",
              "      <td>0</td>\n",
              "      <td>0</td>\n",
              "    </tr>\n",
              "    <tr>\n",
              "      <th>3</th>\n",
              "      <td>4</td>\n",
              "      <td>1/22/2020</td>\n",
              "      <td>Mainland China</td>\n",
              "      <td>1/22/2020</td>\n",
              "      <td>1</td>\n",
              "      <td>0</td>\n",
              "      <td>0</td>\n",
              "    </tr>\n",
              "    <tr>\n",
              "      <th>4</th>\n",
              "      <td>5</td>\n",
              "      <td>1/22/2020</td>\n",
              "      <td>Mainland China</td>\n",
              "      <td>1/22/2020</td>\n",
              "      <td>0</td>\n",
              "      <td>0</td>\n",
              "      <td>0</td>\n",
              "    </tr>\n",
              "    <tr>\n",
              "      <th>...</th>\n",
              "      <td>...</td>\n",
              "      <td>...</td>\n",
              "      <td>...</td>\n",
              "      <td>...</td>\n",
              "      <td>...</td>\n",
              "      <td>...</td>\n",
              "      <td>...</td>\n",
              "    </tr>\n",
              "    <tr>\n",
              "      <th>227602</th>\n",
              "      <td>306425</td>\n",
              "      <td>5/29/2021</td>\n",
              "      <td>Ukraine</td>\n",
              "      <td>5/30/2021</td>\n",
              "      <td>102641</td>\n",
              "      <td>2335</td>\n",
              "      <td>95289</td>\n",
              "    </tr>\n",
              "    <tr>\n",
              "      <th>227603</th>\n",
              "      <td>306426</td>\n",
              "      <td>5/29/2021</td>\n",
              "      <td>Netherlands</td>\n",
              "      <td>5/30/2021</td>\n",
              "      <td>29147</td>\n",
              "      <td>245</td>\n",
              "      <td>0</td>\n",
              "    </tr>\n",
              "    <tr>\n",
              "      <th>227604</th>\n",
              "      <td>306427</td>\n",
              "      <td>5/29/2021</td>\n",
              "      <td>Mainland China</td>\n",
              "      <td>5/30/2021</td>\n",
              "      <td>1364</td>\n",
              "      <td>1</td>\n",
              "      <td>1324</td>\n",
              "    </tr>\n",
              "    <tr>\n",
              "      <th>227605</th>\n",
              "      <td>306428</td>\n",
              "      <td>5/29/2021</td>\n",
              "      <td>Ukraine</td>\n",
              "      <td>5/30/2021</td>\n",
              "      <td>87550</td>\n",
              "      <td>1738</td>\n",
              "      <td>83790</td>\n",
              "    </tr>\n",
              "    <tr>\n",
              "      <th>227606</th>\n",
              "      <td>306429</td>\n",
              "      <td>5/29/2021</td>\n",
              "      <td>Netherlands</td>\n",
              "      <td>5/30/2021</td>\n",
              "      <td>391559</td>\n",
              "      <td>4252</td>\n",
              "      <td>0</td>\n",
              "    </tr>\n",
              "  </tbody>\n",
              "</table>\n",
              "<p>227607 rows × 7 columns</p>\n",
              "</div>"
            ],
            "text/plain": [
              "           SNo ObservationDate         Country  ... Confirmed  Deaths  Recovered\n",
              "0            1        1/4/1900  Mainland China  ...         1       0          0\n",
              "1            2       1/22/2020  Mainland China  ...        14       0          0\n",
              "2            3       1/22/2020  Mainland China  ...         6       0          0\n",
              "3            4       1/22/2020  Mainland China  ...         1       0          0\n",
              "4            5       1/22/2020  Mainland China  ...         0       0          0\n",
              "...        ...             ...             ...  ...       ...     ...        ...\n",
              "227602  306425       5/29/2021         Ukraine  ...    102641    2335      95289\n",
              "227603  306426       5/29/2021     Netherlands  ...     29147     245          0\n",
              "227604  306427       5/29/2021  Mainland China  ...      1364       1       1324\n",
              "227605  306428       5/29/2021         Ukraine  ...     87550    1738      83790\n",
              "227606  306429       5/29/2021     Netherlands  ...    391559    4252          0\n",
              "\n",
              "[227607 rows x 7 columns]"
            ]
          },
          "metadata": {},
          "execution_count": 3
        }
      ]
    },
    {
      "cell_type": "code",
      "metadata": {
        "colab": {
          "base_uri": "https://localhost:8080/"
        },
        "id": "20n4RiCLqdfX",
        "outputId": "4508c1f1-7b44-45f7-a340-88d5c5a9e3e1"
      },
      "source": [
        "dataset.columns\n",
        "dataset.shape"
      ],
      "execution_count": null,
      "outputs": [
        {
          "output_type": "execute_result",
          "data": {
            "text/plain": [
              "(227607, 7)"
            ]
          },
          "metadata": {},
          "execution_count": 4
        }
      ]
    },
    {
      "cell_type": "code",
      "metadata": {
        "colab": {
          "base_uri": "https://localhost:8080/"
        },
        "id": "rBGYwOmeqdjX",
        "outputId": "0f7a3d74-7cdd-45c7-f238-3cd937b36e79"
      },
      "source": [
        "dataset.columns"
      ],
      "execution_count": null,
      "outputs": [
        {
          "output_type": "execute_result",
          "data": {
            "text/plain": [
              "Index(['SNo', 'ObservationDate', 'Country', 'Last Update', 'Confirmed',\n",
              "       'Deaths', 'Recovered'],\n",
              "      dtype='object')"
            ]
          },
          "metadata": {},
          "execution_count": 5
        }
      ]
    },
    {
      "cell_type": "code",
      "metadata": {
        "colab": {
          "base_uri": "https://localhost:8080/"
        },
        "id": "4jLB9-kvqdrn",
        "outputId": "281945a7-1f6d-4bf3-a161-c8e280dc0bae"
      },
      "source": [
        "dataset.isna().sum()"
      ],
      "execution_count": null,
      "outputs": [
        {
          "output_type": "execute_result",
          "data": {
            "text/plain": [
              "SNo                0\n",
              "ObservationDate    0\n",
              "Country            0\n",
              "Last Update        0\n",
              "Confirmed          0\n",
              "Deaths             0\n",
              "Recovered          0\n",
              "dtype: int64"
            ]
          },
          "metadata": {},
          "execution_count": 6
        }
      ]
    },
    {
      "cell_type": "code",
      "metadata": {
        "id": "80T_Y8GAqdwC"
      },
      "source": [
        "dataset[\"ObservationDate\"] = pd.to_datetime(dataset[\"ObservationDate\"])"
      ],
      "execution_count": null,
      "outputs": []
    },
    {
      "cell_type": "code",
      "metadata": {
        "id": "kJpmzb1LrmDQ",
        "colab": {
          "base_uri": "https://localhost:8080/"
        },
        "outputId": "0649caa3-8315-404f-8ffb-4fb3fcbf4882"
      },
      "source": [
        "dataset[\"ObservationDate\"]"
      ],
      "execution_count": null,
      "outputs": [
        {
          "output_type": "execute_result",
          "data": {
            "text/plain": [
              "0        1900-01-04\n",
              "1        2020-01-22\n",
              "2        2020-01-22\n",
              "3        2020-01-22\n",
              "4        2020-01-22\n",
              "            ...    \n",
              "227602   2021-05-29\n",
              "227603   2021-05-29\n",
              "227604   2021-05-29\n",
              "227605   2021-05-29\n",
              "227606   2021-05-29\n",
              "Name: ObservationDate, Length: 227607, dtype: datetime64[ns]"
            ]
          },
          "metadata": {},
          "execution_count": 8
        }
      ]
    },
    {
      "cell_type": "code",
      "metadata": {
        "id": "dXcBauHNrmHX"
      },
      "source": [
        "dataset[\"Last Update\"] = pd.to_datetime(dataset[\"Last Update\"])"
      ],
      "execution_count": null,
      "outputs": []
    },
    {
      "cell_type": "code",
      "metadata": {
        "colab": {
          "base_uri": "https://localhost:8080/"
        },
        "id": "9FkWSUIQqNFR",
        "outputId": "f59cc9ca-c3a6-4528-80fc-6aa651906d95"
      },
      "source": [
        "dataset[\"Last Update\"]"
      ],
      "execution_count": null,
      "outputs": [
        {
          "output_type": "execute_result",
          "data": {
            "text/plain": [
              "0        2020-01-22\n",
              "1        2020-01-22\n",
              "2        2020-01-22\n",
              "3        2020-01-22\n",
              "4        2020-01-22\n",
              "            ...    \n",
              "227602   2021-05-30\n",
              "227603   2021-05-30\n",
              "227604   2021-05-30\n",
              "227605   2021-05-30\n",
              "227606   2021-05-30\n",
              "Name: Last Update, Length: 227607, dtype: datetime64[ns]"
            ]
          },
          "metadata": {},
          "execution_count": 10
        }
      ]
    },
    {
      "cell_type": "code",
      "metadata": {
        "id": "XjmXn2F3qNKK"
      },
      "source": [
        "dataset[\"ObservationDate_day\"] = dataset[\"ObservationDate\"].dt.day\n",
        "dataset[\"ObservationDate_month\"] = dataset[\"ObservationDate\"].dt.month\n",
        "dataset[\"ObservationDate_year\"] = dataset[\"ObservationDate\"].dt.year\n"
      ],
      "execution_count": null,
      "outputs": []
    },
    {
      "cell_type": "code",
      "metadata": {
        "colab": {
          "base_uri": "https://localhost:8080/",
          "height": 329
        },
        "id": "N90KorQGqNOL",
        "outputId": "d8cba884-6fa2-457a-e85e-8f4d7e2186d2"
      },
      "source": [
        "dataset.head()"
      ],
      "execution_count": null,
      "outputs": [
        {
          "output_type": "execute_result",
          "data": {
            "text/html": [
              "<div>\n",
              "<style scoped>\n",
              "    .dataframe tbody tr th:only-of-type {\n",
              "        vertical-align: middle;\n",
              "    }\n",
              "\n",
              "    .dataframe tbody tr th {\n",
              "        vertical-align: top;\n",
              "    }\n",
              "\n",
              "    .dataframe thead th {\n",
              "        text-align: right;\n",
              "    }\n",
              "</style>\n",
              "<table border=\"1\" class=\"dataframe\">\n",
              "  <thead>\n",
              "    <tr style=\"text-align: right;\">\n",
              "      <th></th>\n",
              "      <th>SNo</th>\n",
              "      <th>ObservationDate</th>\n",
              "      <th>Country</th>\n",
              "      <th>Last Update</th>\n",
              "      <th>Confirmed</th>\n",
              "      <th>Deaths</th>\n",
              "      <th>Recovered</th>\n",
              "      <th>ObservationDate_day</th>\n",
              "      <th>ObservationDate_month</th>\n",
              "      <th>ObservationDate_year</th>\n",
              "    </tr>\n",
              "  </thead>\n",
              "  <tbody>\n",
              "    <tr>\n",
              "      <th>0</th>\n",
              "      <td>1</td>\n",
              "      <td>1900-01-04</td>\n",
              "      <td>Mainland China</td>\n",
              "      <td>2020-01-22</td>\n",
              "      <td>1</td>\n",
              "      <td>0</td>\n",
              "      <td>0</td>\n",
              "      <td>4</td>\n",
              "      <td>1</td>\n",
              "      <td>1900</td>\n",
              "    </tr>\n",
              "    <tr>\n",
              "      <th>1</th>\n",
              "      <td>2</td>\n",
              "      <td>2020-01-22</td>\n",
              "      <td>Mainland China</td>\n",
              "      <td>2020-01-22</td>\n",
              "      <td>14</td>\n",
              "      <td>0</td>\n",
              "      <td>0</td>\n",
              "      <td>22</td>\n",
              "      <td>1</td>\n",
              "      <td>2020</td>\n",
              "    </tr>\n",
              "    <tr>\n",
              "      <th>2</th>\n",
              "      <td>3</td>\n",
              "      <td>2020-01-22</td>\n",
              "      <td>Mainland China</td>\n",
              "      <td>2020-01-22</td>\n",
              "      <td>6</td>\n",
              "      <td>0</td>\n",
              "      <td>0</td>\n",
              "      <td>22</td>\n",
              "      <td>1</td>\n",
              "      <td>2020</td>\n",
              "    </tr>\n",
              "    <tr>\n",
              "      <th>3</th>\n",
              "      <td>4</td>\n",
              "      <td>2020-01-22</td>\n",
              "      <td>Mainland China</td>\n",
              "      <td>2020-01-22</td>\n",
              "      <td>1</td>\n",
              "      <td>0</td>\n",
              "      <td>0</td>\n",
              "      <td>22</td>\n",
              "      <td>1</td>\n",
              "      <td>2020</td>\n",
              "    </tr>\n",
              "    <tr>\n",
              "      <th>4</th>\n",
              "      <td>5</td>\n",
              "      <td>2020-01-22</td>\n",
              "      <td>Mainland China</td>\n",
              "      <td>2020-01-22</td>\n",
              "      <td>0</td>\n",
              "      <td>0</td>\n",
              "      <td>0</td>\n",
              "      <td>22</td>\n",
              "      <td>1</td>\n",
              "      <td>2020</td>\n",
              "    </tr>\n",
              "  </tbody>\n",
              "</table>\n",
              "</div>"
            ],
            "text/plain": [
              "   SNo ObservationDate  ... ObservationDate_month ObservationDate_year\n",
              "0    1      1900-01-04  ...                     1                 1900\n",
              "1    2      2020-01-22  ...                     1                 2020\n",
              "2    3      2020-01-22  ...                     1                 2020\n",
              "3    4      2020-01-22  ...                     1                 2020\n",
              "4    5      2020-01-22  ...                     1                 2020\n",
              "\n",
              "[5 rows x 10 columns]"
            ]
          },
          "metadata": {},
          "execution_count": 12
        }
      ]
    },
    {
      "cell_type": "code",
      "metadata": {
        "id": "g78wUhRzqNSR"
      },
      "source": [
        "dataset['Last Update_day'] = dataset['Last Update'].dt.day\n",
        "dataset['Last Update_month'] = dataset['Last Update'].dt.month\n",
        "dataset['Last Update_year'] = dataset['Last Update'].dt.year"
      ],
      "execution_count": null,
      "outputs": []
    },
    {
      "cell_type": "code",
      "metadata": {
        "colab": {
          "base_uri": "https://localhost:8080/",
          "height": 329
        },
        "id": "yoh8R3NlqNW3",
        "outputId": "3c8eb884-ddfc-4a0b-93e0-a70f7ba534bb"
      },
      "source": [
        "dataset.head()"
      ],
      "execution_count": null,
      "outputs": [
        {
          "output_type": "execute_result",
          "data": {
            "text/html": [
              "<div>\n",
              "<style scoped>\n",
              "    .dataframe tbody tr th:only-of-type {\n",
              "        vertical-align: middle;\n",
              "    }\n",
              "\n",
              "    .dataframe tbody tr th {\n",
              "        vertical-align: top;\n",
              "    }\n",
              "\n",
              "    .dataframe thead th {\n",
              "        text-align: right;\n",
              "    }\n",
              "</style>\n",
              "<table border=\"1\" class=\"dataframe\">\n",
              "  <thead>\n",
              "    <tr style=\"text-align: right;\">\n",
              "      <th></th>\n",
              "      <th>SNo</th>\n",
              "      <th>ObservationDate</th>\n",
              "      <th>Country</th>\n",
              "      <th>Last Update</th>\n",
              "      <th>Confirmed</th>\n",
              "      <th>Deaths</th>\n",
              "      <th>Recovered</th>\n",
              "      <th>ObservationDate_day</th>\n",
              "      <th>ObservationDate_month</th>\n",
              "      <th>ObservationDate_year</th>\n",
              "      <th>Last Update_day</th>\n",
              "      <th>Last Update_month</th>\n",
              "      <th>Last Update_year</th>\n",
              "    </tr>\n",
              "  </thead>\n",
              "  <tbody>\n",
              "    <tr>\n",
              "      <th>0</th>\n",
              "      <td>1</td>\n",
              "      <td>1900-01-04</td>\n",
              "      <td>Mainland China</td>\n",
              "      <td>2020-01-22</td>\n",
              "      <td>1</td>\n",
              "      <td>0</td>\n",
              "      <td>0</td>\n",
              "      <td>4</td>\n",
              "      <td>1</td>\n",
              "      <td>1900</td>\n",
              "      <td>22</td>\n",
              "      <td>1</td>\n",
              "      <td>2020</td>\n",
              "    </tr>\n",
              "    <tr>\n",
              "      <th>1</th>\n",
              "      <td>2</td>\n",
              "      <td>2020-01-22</td>\n",
              "      <td>Mainland China</td>\n",
              "      <td>2020-01-22</td>\n",
              "      <td>14</td>\n",
              "      <td>0</td>\n",
              "      <td>0</td>\n",
              "      <td>22</td>\n",
              "      <td>1</td>\n",
              "      <td>2020</td>\n",
              "      <td>22</td>\n",
              "      <td>1</td>\n",
              "      <td>2020</td>\n",
              "    </tr>\n",
              "    <tr>\n",
              "      <th>2</th>\n",
              "      <td>3</td>\n",
              "      <td>2020-01-22</td>\n",
              "      <td>Mainland China</td>\n",
              "      <td>2020-01-22</td>\n",
              "      <td>6</td>\n",
              "      <td>0</td>\n",
              "      <td>0</td>\n",
              "      <td>22</td>\n",
              "      <td>1</td>\n",
              "      <td>2020</td>\n",
              "      <td>22</td>\n",
              "      <td>1</td>\n",
              "      <td>2020</td>\n",
              "    </tr>\n",
              "    <tr>\n",
              "      <th>3</th>\n",
              "      <td>4</td>\n",
              "      <td>2020-01-22</td>\n",
              "      <td>Mainland China</td>\n",
              "      <td>2020-01-22</td>\n",
              "      <td>1</td>\n",
              "      <td>0</td>\n",
              "      <td>0</td>\n",
              "      <td>22</td>\n",
              "      <td>1</td>\n",
              "      <td>2020</td>\n",
              "      <td>22</td>\n",
              "      <td>1</td>\n",
              "      <td>2020</td>\n",
              "    </tr>\n",
              "    <tr>\n",
              "      <th>4</th>\n",
              "      <td>5</td>\n",
              "      <td>2020-01-22</td>\n",
              "      <td>Mainland China</td>\n",
              "      <td>2020-01-22</td>\n",
              "      <td>0</td>\n",
              "      <td>0</td>\n",
              "      <td>0</td>\n",
              "      <td>22</td>\n",
              "      <td>1</td>\n",
              "      <td>2020</td>\n",
              "      <td>22</td>\n",
              "      <td>1</td>\n",
              "      <td>2020</td>\n",
              "    </tr>\n",
              "  </tbody>\n",
              "</table>\n",
              "</div>"
            ],
            "text/plain": [
              "   SNo ObservationDate  ... Last Update_month Last Update_year\n",
              "0    1      1900-01-04  ...                 1             2020\n",
              "1    2      2020-01-22  ...                 1             2020\n",
              "2    3      2020-01-22  ...                 1             2020\n",
              "3    4      2020-01-22  ...                 1             2020\n",
              "4    5      2020-01-22  ...                 1             2020\n",
              "\n",
              "[5 rows x 13 columns]"
            ]
          },
          "metadata": {},
          "execution_count": 14
        }
      ]
    },
    {
      "cell_type": "code",
      "metadata": {
        "colab": {
          "base_uri": "https://localhost:8080/"
        },
        "id": "J4OaYl4NqNa_",
        "outputId": "75f0e1a2-d8bc-4327-9a17-b5784d9395f5"
      },
      "source": [
        "dataset.shape"
      ],
      "execution_count": null,
      "outputs": [
        {
          "output_type": "execute_result",
          "data": {
            "text/plain": [
              "(227607, 13)"
            ]
          },
          "metadata": {},
          "execution_count": 15
        }
      ]
    },
    {
      "cell_type": "code",
      "metadata": {
        "id": "XpYtp2dEqNeL"
      },
      "source": [
        "dataset['ObservationDate'] = dataset['ObservationDate'].astype(np.int64)\n",
        "dataset['Last Update'] = dataset['Last Update'].astype(np.int64)"
      ],
      "execution_count": null,
      "outputs": []
    },
    {
      "cell_type": "code",
      "metadata": {
        "colab": {
          "base_uri": "https://localhost:8080/"
        },
        "id": "5Nzss9uyqNi6",
        "outputId": "10961154-280e-4a4e-864c-6295ad409fea"
      },
      "source": [
        "dataset.dtypes"
      ],
      "execution_count": null,
      "outputs": [
        {
          "output_type": "execute_result",
          "data": {
            "text/plain": [
              "SNo                       int64\n",
              "ObservationDate           int64\n",
              "Country                  object\n",
              "Last Update               int64\n",
              "Confirmed                 int64\n",
              "Deaths                    int64\n",
              "Recovered                 int64\n",
              "ObservationDate_day       int64\n",
              "ObservationDate_month     int64\n",
              "ObservationDate_year      int64\n",
              "Last Update_day           int64\n",
              "Last Update_month         int64\n",
              "Last Update_year          int64\n",
              "dtype: object"
            ]
          },
          "metadata": {},
          "execution_count": 17
        }
      ]
    },
    {
      "cell_type": "code",
      "metadata": {
        "id": "uLGPiI0hq2hh"
      },
      "source": [
        "from sklearn.preprocessing import LabelEncoder\n",
        "from sklearn import preprocessing"
      ],
      "execution_count": null,
      "outputs": []
    },
    {
      "cell_type": "code",
      "metadata": {
        "id": "GuXZGmt0q2lY"
      },
      "source": [
        "labelencoder = LabelEncoder()\n",
        "dataset['Country'] = labelencoder.fit_transform(dataset['Country'])"
      ],
      "execution_count": null,
      "outputs": []
    },
    {
      "cell_type": "code",
      "metadata": {
        "id": "YWKqBJrM6jPg"
      },
      "source": [
        "from sklearn.preprocessing import OneHotEncoder\n",
        "dataset['Country'] = preprocessing.OneHotEncoder().fit_transform(dataset.Country.values.reshape(-1,1)).toarray()"
      ],
      "execution_count": null,
      "outputs": []
    },
    {
      "cell_type": "code",
      "metadata": {
        "colab": {
          "base_uri": "https://localhost:8080/"
        },
        "id": "zsqfgb6rrEzt",
        "outputId": "38780099-5210-44ad-97a6-9a90ec112f31"
      },
      "source": [
        "dataset['Country']"
      ],
      "execution_count": null,
      "outputs": [
        {
          "output_type": "execute_result",
          "data": {
            "text/plain": [
              "0         0.0\n",
              "1         0.0\n",
              "2         0.0\n",
              "3         0.0\n",
              "4         0.0\n",
              "         ... \n",
              "227602    0.0\n",
              "227603    0.0\n",
              "227604    0.0\n",
              "227605    0.0\n",
              "227606    0.0\n",
              "Name: Country, Length: 227607, dtype: float64"
            ]
          },
          "metadata": {},
          "execution_count": 21
        }
      ]
    },
    {
      "cell_type": "code",
      "metadata": {
        "colab": {
          "base_uri": "https://localhost:8080/"
        },
        "id": "x_a-Tv_erVXj",
        "outputId": "6ba01139-f821-45bd-824b-c48af7764caa"
      },
      "source": [
        "dataset.columns"
      ],
      "execution_count": null,
      "outputs": [
        {
          "output_type": "execute_result",
          "data": {
            "text/plain": [
              "Index(['SNo', 'ObservationDate', 'Country', 'Last Update', 'Confirmed',\n",
              "       'Deaths', 'Recovered', 'ObservationDate_day', 'ObservationDate_month',\n",
              "       'ObservationDate_year', 'Last Update_day', 'Last Update_month',\n",
              "       'Last Update_year'],\n",
              "      dtype='object')"
            ]
          },
          "metadata": {},
          "execution_count": 22
        }
      ]
    },
    {
      "cell_type": "code",
      "metadata": {
        "id": "zXklh7VR5h2R"
      },
      "source": [
        "from sklearn.model_selection import train_test_split\n",
        "X = dataset.iloc[:,:-1].values\n",
        "y = dataset.iloc[:,12].values\n",
        "\n",
        "X_train, X_test, y_train, y_test = train_test_split(X, y, test_size = 0.2)"
      ],
      "execution_count": null,
      "outputs": []
    },
    {
      "cell_type": "markdown",
      "metadata": {
        "id": "KdgAXJj6q1HU"
      },
      "source": [
        "**LinearRegression**"
      ]
    },
    {
      "cell_type": "code",
      "metadata": {
        "id": "93xLiIkRv43J"
      },
      "source": [
        "from sklearn.linear_model import LinearRegression"
      ],
      "execution_count": null,
      "outputs": []
    },
    {
      "cell_type": "code",
      "metadata": {
        "id": "Wxd7oyiiv47M"
      },
      "source": [
        "lr = LinearRegression()"
      ],
      "execution_count": null,
      "outputs": []
    },
    {
      "cell_type": "code",
      "metadata": {
        "id": "s0nnupfVv4-1",
        "colab": {
          "base_uri": "https://localhost:8080/"
        },
        "outputId": "7dbfed14-6a5d-4c64-ac8a-d121c3e10bbf"
      },
      "source": [
        "lr.fit(X_train,y_train)"
      ],
      "execution_count": null,
      "outputs": [
        {
          "output_type": "execute_result",
          "data": {
            "text/plain": [
              "LinearRegression(copy_X=True, fit_intercept=True, n_jobs=None, normalize=False)"
            ]
          },
          "metadata": {},
          "execution_count": 26
        }
      ]
    },
    {
      "cell_type": "code",
      "metadata": {
        "id": "xLYkLQNHv5DG"
      },
      "source": [
        "accuracy = lr.score(X_test,y_test)"
      ],
      "execution_count": null,
      "outputs": []
    },
    {
      "cell_type": "code",
      "metadata": {
        "id": "bvOrASUvv5GX",
        "colab": {
          "base_uri": "https://localhost:8080/"
        },
        "outputId": "4086230f-ae4f-43d4-8b5c-51a857f9562f"
      },
      "source": [
        "accuracy"
      ],
      "execution_count": null,
      "outputs": [
        {
          "output_type": "execute_result",
          "data": {
            "text/plain": [
              "0.9878121811728204"
            ]
          },
          "metadata": {},
          "execution_count": 28
        }
      ]
    },
    {
      "cell_type": "markdown",
      "metadata": {
        "id": "yHOYe_z2q6Ui"
      },
      "source": [
        "**SVM algorithm**"
      ]
    },
    {
      "cell_type": "code",
      "metadata": {
        "id": "d4JfjNkfv5KS"
      },
      "source": [
        "from sklearn.svm import SVC\n",
        "model = SVC()\n"
      ],
      "execution_count": null,
      "outputs": []
    },
    {
      "cell_type": "code",
      "metadata": {
        "id": "5_08e_lAv5Nl",
        "colab": {
          "base_uri": "https://localhost:8080/"
        },
        "outputId": "70bcbc49-3757-46b7-ad31-905cfa036f25"
      },
      "source": [
        "model.fit(X_train,y_train)"
      ],
      "execution_count": null,
      "outputs": [
        {
          "output_type": "execute_result",
          "data": {
            "text/plain": [
              "SVC(C=1.0, break_ties=False, cache_size=200, class_weight=None, coef0=0.0,\n",
              "    decision_function_shape='ovr', degree=3, gamma='scale', kernel='rbf',\n",
              "    max_iter=-1, probability=False, random_state=None, shrinking=True,\n",
              "    tol=0.001, verbose=False)"
            ]
          },
          "metadata": {},
          "execution_count": 30
        }
      ]
    },
    {
      "cell_type": "code",
      "metadata": {
        "id": "oiZ_OR6uv5Rk"
      },
      "source": [
        "accuracy = model.score(X_test,y_test)"
      ],
      "execution_count": null,
      "outputs": []
    },
    {
      "cell_type": "code",
      "metadata": {
        "id": "U-GCuqk7snrW",
        "colab": {
          "base_uri": "https://localhost:8080/"
        },
        "outputId": "7efaf6c2-8a38-4bbb-8df0-73df67b1a7e7"
      },
      "source": [
        "accuracy"
      ],
      "execution_count": null,
      "outputs": [
        {
          "output_type": "execute_result",
          "data": {
            "text/plain": [
              "1.0"
            ]
          },
          "metadata": {},
          "execution_count": 32
        }
      ]
    },
    {
      "cell_type": "code",
      "metadata": {
        "id": "_RNiFvOStRO7"
      },
      "source": [
        "from sklearn.metrics import classification_report\n"
      ],
      "execution_count": null,
      "outputs": []
    },
    {
      "cell_type": "code",
      "metadata": {
        "id": "iz8V5mlotgYT"
      },
      "source": [
        "predictions = model.predict(X_test)"
      ],
      "execution_count": null,
      "outputs": []
    },
    {
      "cell_type": "code",
      "metadata": {
        "colab": {
          "base_uri": "https://localhost:8080/"
        },
        "id": "CQDFe1pntgcB",
        "outputId": "3ca4b76b-170a-43ec-fc9e-b170d58d498c"
      },
      "source": [
        "print(classification_report(y_test,predictions))"
      ],
      "execution_count": null,
      "outputs": [
        {
          "output_type": "stream",
          "text": [
            "              precision    recall  f1-score   support\n",
            "\n",
            "        2020       1.00      1.00      1.00      2145\n",
            "        2021       1.00      1.00      1.00     43377\n",
            "\n",
            "    accuracy                           1.00     45522\n",
            "   macro avg       1.00      1.00      1.00     45522\n",
            "weighted avg       1.00      1.00      1.00     45522\n",
            "\n"
          ],
          "name": "stdout"
        }
      ]
    },
    {
      "cell_type": "markdown",
      "metadata": {
        "id": "CawIhmdttDcr"
      },
      "source": [
        "**Random Forest**"
      ]
    },
    {
      "cell_type": "code",
      "metadata": {
        "id": "sAKVI8AotBFt"
      },
      "source": [
        "from sklearn.ensemble import RandomForestClassifier"
      ],
      "execution_count": null,
      "outputs": []
    },
    {
      "cell_type": "code",
      "metadata": {
        "id": "eyknVI4ztBJh"
      },
      "source": [
        "clf = RandomForestClassifier(n_estimators=20, random_state=0)"
      ],
      "execution_count": null,
      "outputs": []
    },
    {
      "cell_type": "code",
      "metadata": {
        "colab": {
          "base_uri": "https://localhost:8080/"
        },
        "id": "4lNFuBqEtBQk",
        "outputId": "c80a7667-7fd6-4703-827a-a87f06a92b3d"
      },
      "source": [
        "clf.fit(X_train,y_train)"
      ],
      "execution_count": null,
      "outputs": [
        {
          "output_type": "execute_result",
          "data": {
            "text/plain": [
              "RandomForestClassifier(bootstrap=True, ccp_alpha=0.0, class_weight=None,\n",
              "                       criterion='gini', max_depth=None, max_features='auto',\n",
              "                       max_leaf_nodes=None, max_samples=None,\n",
              "                       min_impurity_decrease=0.0, min_impurity_split=None,\n",
              "                       min_samples_leaf=1, min_samples_split=2,\n",
              "                       min_weight_fraction_leaf=0.0, n_estimators=20,\n",
              "                       n_jobs=None, oob_score=False, random_state=0, verbose=0,\n",
              "                       warm_start=False)"
            ]
          },
          "metadata": {},
          "execution_count": 39
        }
      ]
    },
    {
      "cell_type": "code",
      "metadata": {
        "id": "cjWIpgurtBbB"
      },
      "source": [
        "from sklearn.metrics import accuracy_score, classification_report"
      ],
      "execution_count": null,
      "outputs": []
    },
    {
      "cell_type": "code",
      "metadata": {
        "id": "y3H3v0LYujcG"
      },
      "source": [
        "predictions = clf.predict(X_test)"
      ],
      "execution_count": null,
      "outputs": []
    },
    {
      "cell_type": "code",
      "metadata": {
        "colab": {
          "base_uri": "https://localhost:8080/"
        },
        "id": "aDeHxGYgujfq",
        "outputId": "ab50a542-caf4-4345-dfe6-0acac9e43681"
      },
      "source": [
        "print(accuracy_score(y_test,predictions))\n",
        "print(classification_report(y_test,predictions))"
      ],
      "execution_count": null,
      "outputs": [
        {
          "output_type": "stream",
          "text": [
            "1.0\n",
            "              precision    recall  f1-score   support\n",
            "\n",
            "        2020       1.00      1.00      1.00      2145\n",
            "        2021       1.00      1.00      1.00     43377\n",
            "\n",
            "    accuracy                           1.00     45522\n",
            "   macro avg       1.00      1.00      1.00     45522\n",
            "weighted avg       1.00      1.00      1.00     45522\n",
            "\n"
          ],
          "name": "stdout"
        }
      ]
    },
    {
      "cell_type": "markdown",
      "metadata": {
        "id": "nZhBN4c1l441"
      },
      "source": [
        "**Logistic Regression**"
      ]
    },
    {
      "cell_type": "code",
      "metadata": {
        "id": "cAp5MSL3ujjb"
      },
      "source": [
        "from sklearn.metrics import accuracy_score, classification_report\n",
        "from sklearn.linear_model import LogisticRegression"
      ],
      "execution_count": null,
      "outputs": []
    },
    {
      "cell_type": "code",
      "metadata": {
        "id": "EwmDlyw6mEFy"
      },
      "source": [
        "logreg = LogisticRegression()\n"
      ],
      "execution_count": null,
      "outputs": []
    },
    {
      "cell_type": "code",
      "metadata": {
        "colab": {
          "base_uri": "https://localhost:8080/"
        },
        "id": "pE2v7T3XmEJV",
        "outputId": "ab6114a4-0df5-42ce-ba96-f90e4c77eab6"
      },
      "source": [
        "logreg.fit(X_train,y_train)"
      ],
      "execution_count": null,
      "outputs": [
        {
          "output_type": "stream",
          "text": [
            "/usr/local/lib/python3.7/dist-packages/sklearn/linear_model/_logistic.py:940: ConvergenceWarning: lbfgs failed to converge (status=2):\n",
            "ABNORMAL_TERMINATION_IN_LNSRCH.\n",
            "\n",
            "Increase the number of iterations (max_iter) or scale the data as shown in:\n",
            "    https://scikit-learn.org/stable/modules/preprocessing.html\n",
            "Please also refer to the documentation for alternative solver options:\n",
            "    https://scikit-learn.org/stable/modules/linear_model.html#logistic-regression\n",
            "  extra_warning_msg=_LOGISTIC_SOLVER_CONVERGENCE_MSG)\n"
          ],
          "name": "stderr"
        },
        {
          "output_type": "execute_result",
          "data": {
            "text/plain": [
              "LogisticRegression(C=1.0, class_weight=None, dual=False, fit_intercept=True,\n",
              "                   intercept_scaling=1, l1_ratio=None, max_iter=100,\n",
              "                   multi_class='auto', n_jobs=None, penalty='l2',\n",
              "                   random_state=None, solver='lbfgs', tol=0.0001, verbose=0,\n",
              "                   warm_start=False)"
            ]
          },
          "metadata": {},
          "execution_count": 45
        }
      ]
    },
    {
      "cell_type": "code",
      "metadata": {
        "colab": {
          "base_uri": "https://localhost:8080/"
        },
        "id": "mmFPg-XbmENO",
        "outputId": "d5d390a3-a356-450d-c24a-b3ce2760c20f"
      },
      "source": [
        "predictions = logreg.predict(X_test)\n",
        "print(accuracy_score(y_test,predictions))\n",
        "print(classification_report(y_test, predictions))"
      ],
      "execution_count": null,
      "outputs": [
        {
          "output_type": "stream",
          "text": [
            "0.04712007381046527\n",
            "              precision    recall  f1-score   support\n",
            "\n",
            "        2020       0.05      1.00      0.09      2145\n",
            "        2021       0.00      0.00      0.00     43377\n",
            "\n",
            "    accuracy                           0.05     45522\n",
            "   macro avg       0.02      0.50      0.04     45522\n",
            "weighted avg       0.00      0.05      0.00     45522\n",
            "\n"
          ],
          "name": "stdout"
        },
        {
          "output_type": "stream",
          "text": [
            "/usr/local/lib/python3.7/dist-packages/sklearn/metrics/_classification.py:1272: UndefinedMetricWarning: Precision and F-score are ill-defined and being set to 0.0 in labels with no predicted samples. Use `zero_division` parameter to control this behavior.\n",
            "  _warn_prf(average, modifier, msg_start, len(result))\n"
          ],
          "name": "stderr"
        }
      ]
    },
    {
      "cell_type": "markdown",
      "metadata": {
        "id": "rMPdUDuOmWjn"
      },
      "source": [
        "**Naibe Bayes**"
      ]
    },
    {
      "cell_type": "code",
      "metadata": {
        "id": "OmcNgES5mEQl"
      },
      "source": [
        "from sklearn.naive_bayes import GaussianNB\n",
        "nb = GaussianNB()"
      ],
      "execution_count": null,
      "outputs": []
    },
    {
      "cell_type": "code",
      "metadata": {
        "colab": {
          "base_uri": "https://localhost:8080/"
        },
        "id": "y2mjpxfjmEUT",
        "outputId": "4af0bcef-2deb-4bf9-d724-3b5db3fe427e"
      },
      "source": [
        "nb.fit(X_train, y_train)"
      ],
      "execution_count": null,
      "outputs": [
        {
          "output_type": "execute_result",
          "data": {
            "text/plain": [
              "GaussianNB(priors=None, var_smoothing=1e-09)"
            ]
          },
          "metadata": {},
          "execution_count": 50
        }
      ]
    },
    {
      "cell_type": "code",
      "metadata": {
        "colab": {
          "base_uri": "https://localhost:8080/"
        },
        "id": "1ILOeDUxmEYL",
        "outputId": "64b22d34-9948-4521-a878-e920b7fb0389"
      },
      "source": [
        "predictions = nb.predict(X_test)\n",
        "print(accuracy_score(y_test,predictions))\n",
        "print(classification_report(y_test,predictions))"
      ],
      "execution_count": null,
      "outputs": [
        {
          "output_type": "stream",
          "text": [
            "1.0\n",
            "              precision    recall  f1-score   support\n",
            "\n",
            "        2020       1.00      1.00      1.00      2145\n",
            "        2021       1.00      1.00      1.00     43377\n",
            "\n",
            "    accuracy                           1.00     45522\n",
            "   macro avg       1.00      1.00      1.00     45522\n",
            "weighted avg       1.00      1.00      1.00     45522\n",
            "\n"
          ],
          "name": "stdout"
        }
      ]
    },
    {
      "cell_type": "markdown",
      "metadata": {
        "id": "pF97SdK4m9vD"
      },
      "source": [
        "**KNN algorithm**"
      ]
    },
    {
      "cell_type": "code",
      "metadata": {
        "id": "J7ypJ3r6m7d9"
      },
      "source": [
        "from sklearn.neighbors import KNeighborsClassifier\n",
        "knn = KNeighborsClassifier()"
      ],
      "execution_count": null,
      "outputs": []
    },
    {
      "cell_type": "code",
      "metadata": {
        "colab": {
          "base_uri": "https://localhost:8080/"
        },
        "id": "OOpUXgZnm7h8",
        "outputId": "fccfc5b1-9118-4e15-bca8-cb1d2b4c64ad"
      },
      "source": [
        "knn.fit(X_train,y_train)"
      ],
      "execution_count": null,
      "outputs": [
        {
          "output_type": "execute_result",
          "data": {
            "text/plain": [
              "KNeighborsClassifier(algorithm='auto', leaf_size=30, metric='minkowski',\n",
              "                     metric_params=None, n_jobs=None, n_neighbors=5, p=2,\n",
              "                     weights='uniform')"
            ]
          },
          "metadata": {},
          "execution_count": 53
        }
      ]
    },
    {
      "cell_type": "code",
      "metadata": {
        "colab": {
          "base_uri": "https://localhost:8080/"
        },
        "id": "XU2bxsEzm7mc",
        "outputId": "f150403f-03f1-4681-c1a1-fc7d29ba3aa1"
      },
      "source": [
        "predictions = knn.predict(X_test)\n",
        "print(accuracy_score(y_test,predictions))\n",
        "print(classification_report(y_test,predictions))"
      ],
      "execution_count": null,
      "outputs": [
        {
          "output_type": "stream",
          "text": [
            "1.0\n",
            "              precision    recall  f1-score   support\n",
            "\n",
            "        2020       1.00      1.00      1.00      2145\n",
            "        2021       1.00      1.00      1.00     43377\n",
            "\n",
            "    accuracy                           1.00     45522\n",
            "   macro avg       1.00      1.00      1.00     45522\n",
            "weighted avg       1.00      1.00      1.00     45522\n",
            "\n"
          ],
          "name": "stdout"
        }
      ]
    },
    {
      "cell_type": "markdown",
      "metadata": {
        "id": "8IA_tJXdnbqB"
      },
      "source": [
        "**XGBoost**"
      ]
    },
    {
      "cell_type": "code",
      "metadata": {
        "id": "SwME_bPFmEb2"
      },
      "source": [
        "from xgboost import XGBClassifier"
      ],
      "execution_count": null,
      "outputs": []
    },
    {
      "cell_type": "code",
      "metadata": {
        "id": "iDvrQg5mmEhO"
      },
      "source": [
        "model = XGBClassifier()"
      ],
      "execution_count": null,
      "outputs": []
    },
    {
      "cell_type": "code",
      "metadata": {
        "colab": {
          "base_uri": "https://localhost:8080/"
        },
        "id": "4WYv-7wGmEkj",
        "outputId": "530ddddf-167a-473a-fce5-6180c4f20f1e"
      },
      "source": [
        "model.fit(X_train,y_train)"
      ],
      "execution_count": null,
      "outputs": [
        {
          "output_type": "execute_result",
          "data": {
            "text/plain": [
              "XGBClassifier(base_score=0.5, booster='gbtree', colsample_bylevel=1,\n",
              "              colsample_bynode=1, colsample_bytree=1, gamma=0,\n",
              "              learning_rate=0.1, max_delta_step=0, max_depth=3,\n",
              "              min_child_weight=1, missing=None, n_estimators=100, n_jobs=1,\n",
              "              nthread=None, objective='binary:logistic', random_state=0,\n",
              "              reg_alpha=0, reg_lambda=1, scale_pos_weight=1, seed=None,\n",
              "              silent=None, subsample=1, verbosity=1)"
            ]
          },
          "metadata": {},
          "execution_count": 57
        }
      ]
    },
    {
      "cell_type": "code",
      "metadata": {
        "colab": {
          "base_uri": "https://localhost:8080/"
        },
        "id": "g7IwBmTqmEpc",
        "outputId": "4014ffca-292c-4467-c477-63d6903f64f6"
      },
      "source": [
        "predictions = model.predict(X_test)\n",
        "print(accuracy_score(y_test,predictions))\n",
        "print(classification_report(y_test,predictions))"
      ],
      "execution_count": null,
      "outputs": [
        {
          "output_type": "stream",
          "text": [
            "1.0\n",
            "              precision    recall  f1-score   support\n",
            "\n",
            "        2020       1.00      1.00      1.00      2145\n",
            "        2021       1.00      1.00      1.00     43377\n",
            "\n",
            "    accuracy                           1.00     45522\n",
            "   macro avg       1.00      1.00      1.00     45522\n",
            "weighted avg       1.00      1.00      1.00     45522\n",
            "\n"
          ],
          "name": "stdout"
        }
      ]
    }
  ]
}